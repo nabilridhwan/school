{
 "cells": [
  {
   "cell_type": "code",
   "execution_count": null,
   "metadata": {},
   "outputs": [],
   "source": []
  },
  {
   "cell_type": "code",
   "execution_count": 1,
   "metadata": {},
   "outputs": [
    {
     "ename": "NameError",
     "evalue": "name 'Math' is not defined",
     "output_type": "error",
     "traceback": [
      "\u001b[1;31m---------------------------------------------------------------------------\u001b[0m",
      "\u001b[1;31mNameError\u001b[0m                                 Traceback (most recent call last)",
      "\u001b[1;32mc:\\Users\\nabri\\Documents\\school\\PDS\\week-01\\task-4-2.ipynb Cell 2\u001b[0m in \u001b[0;36m<cell line: 12>\u001b[1;34m()\u001b[0m\n\u001b[0;32m      <a href='vscode-notebook-cell:/c%3A/Users/nabri/Documents/school/PDS/week-01/task-4-2.ipynb#W0sZmlsZQ%3D%3D?line=8'>9</a>\u001b[0m n4 \u001b[39m=\u001b[39m \u001b[39mfloat\u001b[39m(\u001b[39minput\u001b[39m(\u001b[39m\"\u001b[39m\u001b[39mEnter number 4: \u001b[39m\u001b[39m\"\u001b[39m))\n\u001b[0;32m     <a href='vscode-notebook-cell:/c%3A/Users/nabri/Documents/school/PDS/week-01/task-4-2.ipynb#W0sZmlsZQ%3D%3D?line=10'>11</a>\u001b[0m n1_squareroot \u001b[39m=\u001b[39m sqrt(n1)\n\u001b[1;32m---> <a href='vscode-notebook-cell:/c%3A/Users/nabri/Documents/school/PDS/week-01/task-4-2.ipynb#W0sZmlsZQ%3D%3D?line=11'>12</a>\u001b[0m n2_times_pi \u001b[39m=\u001b[39m n1 \u001b[39m*\u001b[39m Math\u001b[39m.\u001b[39mPI\n\u001b[0;32m     <a href='vscode-notebook-cell:/c%3A/Users/nabri/Documents/school/PDS/week-01/task-4-2.ipynb#W0sZmlsZQ%3D%3D?line=12'>13</a>\u001b[0m n3_powerof_n1 \u001b[39m=\u001b[39m n3 \u001b[39m*\u001b[39m\u001b[39m*\u001b[39m n1\n\u001b[0;32m     <a href='vscode-notebook-cell:/c%3A/Users/nabri/Documents/school/PDS/week-01/task-4-2.ipynb#W0sZmlsZQ%3D%3D?line=13'>14</a>\u001b[0m n4_factorial \u001b[39m=\u001b[39m factorial(n4)\n",
      "\u001b[1;31mNameError\u001b[0m: name 'Math' is not defined"
     ]
    }
   ],
   "source": [
    "from math import ceil, factorial, floor, sqrt, trunc, pi\n",
    "\n",
    "\n",
    "n1, n2, n3, n4 = 0, 0, 0, 0 # declare variables\n",
    "\n",
    "n1 = float(input(\"Enter number 1: \"))\n",
    "n2 = float(input(\"Enter number 2: \"))\n",
    "n3 = float(input(\"Enter number 3: \"))\n",
    "n4 = float(input(\"Enter number 4: \"))\n",
    "\n",
    "n1_squareroot = sqrt(n1)\n",
    "n2_times_pi = n1 * pi\n",
    "n3_powerof_n1 = n3 ** n1\n",
    "n4_factorial = factorial(n4)\n",
    "\n",
    "\n",
    "n4n3 = n4_factorial / n3\n",
    "\n",
    "n4n3_fractional = n4n3 - floor(n4n3)\n",
    "n4n3_integral = n4n3 - n4n3_fractional\n",
    "\n",
    "print(f\"The square root of {n1} is {n1_squareroot}\")\n",
    "print(f\"The ceiling value of n1_squareroot is {ceil(n1_squareroot)}\")\n",
    "\n",
    "print(f\"\\n{n2} times {pi} is {n2_times_pi}\")\n",
    "print(f\"The truncated value of n2_times_pi is {trunc(n2_times_pi)}\")\n",
    "\n",
    "print(f\"\\n{n3} power of {n1} is {n3_powerof_n1}\")\n",
    "print(f\"The floor value of n3_powerof_n1 is {floor(n3_powerof_n1)}\")\n",
    "\n",
    "print(f\"\\n{n4} factorial is {n4_factorial}\")\n",
    "print(f\"{n4_factorial} divided by {n3} is {n4n3}\")\n",
    "print(f\"The fractional value of the result is {n4n3_fractional}\")\n",
    "print(f\"The integer value of the result is {n4n3_integral}\")"
   ]
  }
 ],
 "metadata": {
  "kernelspec": {
   "display_name": "Python 3.9.12 ('base')",
   "language": "python",
   "name": "python3"
  },
  "language_info": {
   "codemirror_mode": {
    "name": "ipython",
    "version": 3
   },
   "file_extension": ".py",
   "mimetype": "text/x-python",
   "name": "python",
   "nbconvert_exporter": "python",
   "pygments_lexer": "ipython3",
   "version": "3.9.12"
  },
  "orig_nbformat": 4,
  "vscode": {
   "interpreter": {
    "hash": "b63652e3f478dee6379201845bbd2ec54e866bff8b44390bada2e7a2e51d39d6"
   }
  }
 },
 "nbformat": 4,
 "nbformat_minor": 2
}
