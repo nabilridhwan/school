{
 "cells": [
  {
   "cell_type": "code",
   "execution_count": null,
   "metadata": {},
   "outputs": [],
   "source": []
  },
  {
   "cell_type": "code",
   "execution_count": 2,
   "metadata": {},
   "outputs": [
    {
     "name": "stdout",
     "output_type": "stream",
     "text": [
      "The square root of 4.5 is 2.1213203435596424\n",
      "The ceiling value of n1_squareroot is 3\n",
      "\n",
      "6.7 times 3.141592653589793 is 14.137166941154069\n",
      "The truncated value of n2_times_pi is 14\n",
      "\n",
      "7.3 power of 4.5 is 7672.782201279266\n",
      "The floor value of n3_powerof_n1 is 7672\n",
      "\n",
      "9.0 factorial is 362880\n",
      "362880 divided by 7.3 is 49709.58904109589\n",
      "The fractional value of the result is 0.5890410958891152\n",
      "The integer value of the result is 49709.0\n"
     ]
    },
    {
     "name": "stderr",
     "output_type": "stream",
     "text": [
      "C:\\Users\\nabri\\AppData\\Local\\Temp\\ipykernel_27500\\2835214625.py:14: DeprecationWarning: Using factorial() with floats is deprecated\n",
      "  n4_factorial = factorial(n4)\n"
     ]
    }
   ],
   "source": [
    "from math import ceil, factorial, floor, sqrt, trunc, pi\n",
    "\n",
    "\n",
    "n1, n2, n3, n4 = 0, 0, 0, 0 # declare variables\n",
    "\n",
    "n1 = float(input(\"Enter number 1: \"))\n",
    "n2 = float(input(\"Enter number 2: \"))\n",
    "n3 = float(input(\"Enter number 3: \"))\n",
    "n4 = float(input(\"Enter number 4: \"))\n",
    "\n",
    "n1_squareroot = sqrt(n1)\n",
    "n2_times_pi = n2 * pi\n",
    "n3_powerof_n1 = n3 ** n1\n",
    "n4_factorial = factorial(n4)\n",
    "\n",
    "\n",
    "n4n3 = n4_factorial / n3\n",
    "\n",
    "n4n3_fractional = n4n3 - floor(n4n3)\n",
    "n4n3_integral = n4n3 - n4n3_fractional\n",
    "\n",
    "print(f\"The square root of {n1} is {n1_squareroot}\")\n",
    "print(f\"The ceiling value of n1_squareroot is {ceil(n1_squareroot)}\")\n",
    "\n",
    "print(f\"\\n{n2} times {pi} is {n2_times_pi}\")\n",
    "print(f\"The truncated value of n2_times_pi is {trunc(n2_times_pi)}\")\n",
    "\n",
    "print(f\"\\n{n3} power of {n1} is {n3_powerof_n1}\")\n",
    "print(f\"The floor value of n3_powerof_n1 is {floor(n3_powerof_n1)}\")\n",
    "\n",
    "print(f\"\\n{n4} factorial is {n4_factorial}\")\n",
    "print(f\"{n4_factorial} divided by {n3} is {n4n3}\")\n",
    "print(f\"The fractional value of the result is {n4n3_fractional}\")\n",
    "print(f\"The integer value of the result is {n4n3_integral}\")"
   ]
  }
 ],
 "metadata": {
  "kernelspec": {
   "display_name": "Python 3.9.12 ('base')",
   "language": "python",
   "name": "python3"
  },
  "language_info": {
   "codemirror_mode": {
    "name": "ipython",
    "version": 3
   },
   "file_extension": ".py",
   "mimetype": "text/x-python",
   "name": "python",
   "nbconvert_exporter": "python",
   "pygments_lexer": "ipython3",
   "version": "3.9.12"
  },
  "orig_nbformat": 4,
  "vscode": {
   "interpreter": {
    "hash": "b63652e3f478dee6379201845bbd2ec54e866bff8b44390bada2e7a2e51d39d6"
   }
  }
 },
 "nbformat": 4,
 "nbformat_minor": 2
}
