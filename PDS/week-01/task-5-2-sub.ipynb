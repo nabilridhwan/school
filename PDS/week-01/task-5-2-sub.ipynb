{
 "cells": [
  {
   "cell_type": "code",
   "execution_count": 2,
   "metadata": {},
   "outputs": [
    {
     "name": "stdout",
     "output_type": "stream",
     "text": [
      "Enter 3 random strings, separated by commas: When Breath Becomes Air,The 91-Storey Treehouse,Harry Potter and the Prisoner of Azkaban\n",
      "\n",
      "s1 is When Breath Becomes Air\n",
      "Length of When Breath Becomes Air is 23\n",
      "2nd and 3rd characters of When Breath Becomes Air is he\n",
      "\n",
      "s2 is The 91-Storey Treehouse\n",
      "Length of The 91-Storey Treehouse is 23\n",
      "5th to 7th characters of The 91-Storey Treehouse is 91-\n",
      "\n",
      "s3 is Harry Potter and the Prisoner of Azkaban\n",
      "Length of Harry Potter and the Prisoner of Azkaban is 40\n",
      "Last two characters of Harry Potter and the Prisoner of Azkaban is an\n"
     ]
    }
   ],
   "source": [
    "string = input(\"Enter 3 random strings, separated by commas: \")\n",
    "\n",
    "splitted_string = string.split(\",\")\n",
    "s1 = splitted_string[0]\n",
    "s2 = splitted_string[1]\n",
    "s3 = splitted_string[2]\n",
    "\n",
    "print(f\"\\ns1 is {s1}\")\n",
    "print(f\"Length of {s1} is {len(s1)}\")\n",
    "print(f\"2nd and 3rd characters of {s1} is {s1[1:3]}\")\n",
    "\n",
    "print(f\"\\ns2 is {s2}\")\n",
    "print(f\"Length of {s2} is {len(s2)}\")\n",
    "print(f\"5th to 7th characters of {s2} is {s2[4:7]}\")\n",
    "\n",
    "print(f\"\\ns3 is {s3}\")\n",
    "print(f\"Length of {s3} is {len(s3)}\")\n",
    "print(f\"Last two characters of {s3} is {s3[-2:]}\")"
   ]
  },
  {
   "cell_type": "code",
   "execution_count": null,
   "metadata": {},
   "outputs": [],
   "source": []
  }
 ],
 "metadata": {
  "kernelspec": {
   "display_name": "Python 3 (ipykernel)",
   "language": "python",
   "name": "python3"
  },
  "language_info": {
   "codemirror_mode": {
    "name": "ipython",
    "version": 3
   },
   "file_extension": ".py",
   "mimetype": "text/x-python",
   "name": "python",
   "nbconvert_exporter": "python",
   "pygments_lexer": "ipython3",
   "version": "3.9.13"
  },
  "vscode": {
   "interpreter": {
    "hash": "b63652e3f478dee6379201845bbd2ec54e866bff8b44390bada2e7a2e51d39d6"
   }
  }
 },
 "nbformat": 4,
 "nbformat_minor": 2
}
