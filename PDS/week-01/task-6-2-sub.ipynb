{
 "cells": [
  {
   "cell_type": "code",
   "execution_count": 1,
   "metadata": {},
   "outputs": [
    {
     "name": "stdout",
     "output_type": "stream",
     "text": [
      "Welcome to SPdonalds!\n",
      "Below is our Breakfast menu:\n",
      "1.SPMuffin ($5.00) 2.SPancakes ($3.00) 3.SPHashbrown ($1.50)\n",
      "\n",
      "Sorry, you have entered an invalid choice: Exiting program...\n"
     ]
    }
   ],
   "source": [
    "print(\"Welcome to SPdonalds!\")\n",
    "print(\"Below is our Breakfast menu:\")\n",
    "print(\"1.SPMuffin ($5.00) 2.SPancakes ($3.00) 3.SPHashbrown ($1.50)\")\n",
    "\n",
    "choice = input(\"Enter your choice of food: \")\n",
    "\n",
    "amt = 0;\n",
    "\n",
    "if(int(choice) == 1):    \n",
    "    print(f\"\\nSPMuffin $5.00 added!\")\n",
    "    amt = int(input(f\"How many SPMuffin do you want to order? \"))\n",
    "    print(f\"The total cost for {amt} SPMuffin is ${5.00 * amt:.2f}\")\n",
    "elif (int(choice) == 2):\n",
    "    print(f\"\\nSPancakes $3.00 added!\")\n",
    "    amt = int(input(f\"How many SPancakes do you want to order? \"))\n",
    "    print(f\"The total cost for {amt} SPancakes is ${3.00 * amt:.2f}\")\n",
    "elif (int(choice) == 3):\n",
    "    print(f\"\\nSPHashbrown $1.50 added!\")\n",
    "    amt = int(input(f\"How many SPHashbrown do you want to order? \"))\n",
    "    print(f\"The total cost for {amt} SPHashbrowns is ${1.50 * amt:.2f}\")\n",
    "else:\n",
    "    print(\"\\nSorry, you have entered an invalid choice: Exiting program...\")"
   ]
  },
  {
   "cell_type": "code",
   "execution_count": null,
   "metadata": {},
   "outputs": [],
   "source": []
  },
  {
   "cell_type": "code",
   "execution_count": null,
   "metadata": {},
   "outputs": [],
   "source": []
  },
  {
   "cell_type": "code",
   "execution_count": null,
   "metadata": {},
   "outputs": [],
   "source": []
  },
  {
   "cell_type": "code",
   "execution_count": null,
   "metadata": {},
   "outputs": [],
   "source": []
  },
  {
   "cell_type": "code",
   "execution_count": null,
   "metadata": {},
   "outputs": [],
   "source": []
  }
 ],
 "metadata": {
  "kernelspec": {
   "display_name": "Python 3 (ipykernel)",
   "language": "python",
   "name": "python3"
  },
  "language_info": {
   "codemirror_mode": {
    "name": "ipython",
    "version": 3
   },
   "file_extension": ".py",
   "mimetype": "text/x-python",
   "name": "python",
   "nbconvert_exporter": "python",
   "pygments_lexer": "ipython3",
   "version": "3.9.12"
  },
  "vscode": {
   "interpreter": {
    "hash": "b63652e3f478dee6379201845bbd2ec54e866bff8b44390bada2e7a2e51d39d6"
   }
  }
 },
 "nbformat": 4,
 "nbformat_minor": 2
}
