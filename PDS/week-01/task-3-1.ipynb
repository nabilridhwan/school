{
 "cells": [
  {
   "cell_type": "code",
   "execution_count": 1,
   "metadata": {},
   "outputs": [
    {
     "name": "stdout",
     "output_type": "stream",
     "text": [
      "Let's count down from 2 seconds now....\n",
      "Time is up!\n"
     ]
    }
   ],
   "source": [
    "from time import sleep\n",
    "\n",
    "\n",
    "time_to_wait = int(input(\"Enter the number of seconds to count down: \"))\n",
    "\n",
    "print(f\"Let's count down from {time_to_wait} seconds now....\")\n",
    "\n",
    "sleep(time_to_wait)\n",
    "\n",
    "print(\"Time is up!\")\n"
   ]
  }
 ],
 "metadata": {
  "kernelspec": {
   "display_name": "Python 3.9.12 ('base')",
   "language": "python",
   "name": "python3"
  },
  "language_info": {
   "codemirror_mode": {
    "name": "ipython",
    "version": 3
   },
   "file_extension": ".py",
   "mimetype": "text/x-python",
   "name": "python",
   "nbconvert_exporter": "python",
   "pygments_lexer": "ipython3",
   "version": "3.9.12"
  },
  "orig_nbformat": 4,
  "vscode": {
   "interpreter": {
    "hash": "b63652e3f478dee6379201845bbd2ec54e866bff8b44390bada2e7a2e51d39d6"
   }
  }
 },
 "nbformat": 4,
 "nbformat_minor": 2
}
