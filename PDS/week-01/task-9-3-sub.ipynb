{
 "cells": [
  {
   "cell_type": "code",
   "execution_count": 15,
   "metadata": {},
   "outputs": [],
   "source": [
    "list_1 = [300,50,80,90,199,800,74,33]\n",
    "list_2 = ['Apple','Banana','Durian','Grapes','Papaya','Watermelon']\n",
    "list_3 = [0.0, 1.1, 2.2, 3.3, 4.4, 5.5, 6.6, 7.7, 8.8,9.9]"
   ]
  },
  {
   "cell_type": "code",
   "execution_count": 16,
   "metadata": {},
   "outputs": [
    {
     "name": "stdout",
     "output_type": "stream",
     "text": [
      "[800, 74, 33]\n"
     ]
    }
   ],
   "source": [
    "print(list_1[-3:])"
   ]
  },
  {
   "cell_type": "code",
   "execution_count": 17,
   "metadata": {},
   "outputs": [
    {
     "name": "stdout",
     "output_type": "stream",
     "text": [
      "['Papaya', 'Watermelon']\n"
     ]
    }
   ],
   "source": [
    "print(list_2[-2:])"
   ]
  },
  {
   "cell_type": "code",
   "execution_count": 18,
   "metadata": {},
   "outputs": [
    {
     "name": "stdout",
     "output_type": "stream",
     "text": [
      "[1.1, 2.2, 3.3, 4.4, 5.5, 6.6, 7.7, 8.8]\n"
     ]
    }
   ],
   "source": [
    "print(list_3[1:len(list_3)-1])"
   ]
  }
 ],
 "metadata": {
  "kernelspec": {
   "display_name": "Python 3.9.12 ('base')",
   "language": "python",
   "name": "python3"
  },
  "language_info": {
   "codemirror_mode": {
    "name": "ipython",
    "version": 3
   },
   "file_extension": ".py",
   "mimetype": "text/x-python",
   "name": "python",
   "nbconvert_exporter": "python",
   "pygments_lexer": "ipython3",
   "version": "3.9.12"
  },
  "orig_nbformat": 4,
  "vscode": {
   "interpreter": {
    "hash": "b63652e3f478dee6379201845bbd2ec54e866bff8b44390bada2e7a2e51d39d6"
   }
  }
 },
 "nbformat": 4,
 "nbformat_minor": 2
}
