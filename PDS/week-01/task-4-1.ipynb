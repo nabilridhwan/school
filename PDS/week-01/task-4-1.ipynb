{
 "cells": [
  {
   "cell_type": "code",
   "execution_count": 5,
   "metadata": {},
   "outputs": [
    {
     "ename": "TypeError",
     "evalue": "cannot unpack non-iterable int object",
     "output_type": "error",
     "traceback": [
      "\u001b[1;31m---------------------------------------------------------------------------\u001b[0m",
      "\u001b[1;31mTypeError\u001b[0m                                 Traceback (most recent call last)",
      "\u001b[1;32mc:\\Users\\nabri\\Documents\\school\\PDS\\week-01\\task-4-1.ipynb Cell 1\u001b[0m in \u001b[0;36m<cell line: 1>\u001b[1;34m()\u001b[0m\n\u001b[1;32m----> <a href='vscode-notebook-cell:/c%3A/Users/nabri/Documents/school/PDS/week-01/task-4-1.ipynb#W0sZmlsZQ%3D%3D?line=0'>1</a>\u001b[0m n1, n2, n3, n4 \u001b[39m=\u001b[39m \u001b[39m0\u001b[39m \u001b[39m# declare variables\u001b[39;00m\n\u001b[0;32m      <a href='vscode-notebook-cell:/c%3A/Users/nabri/Documents/school/PDS/week-01/task-4-1.ipynb#W0sZmlsZQ%3D%3D?line=2'>3</a>\u001b[0m n1 \u001b[39m=\u001b[39m \u001b[39mint\u001b[39m(\u001b[39minput\u001b[39m(\u001b[39m\"\u001b[39m\u001b[39mEnter number 1: \u001b[39m\u001b[39m\"\u001b[39m))\n\u001b[0;32m      <a href='vscode-notebook-cell:/c%3A/Users/nabri/Documents/school/PDS/week-01/task-4-1.ipynb#W0sZmlsZQ%3D%3D?line=3'>4</a>\u001b[0m n2 \u001b[39m=\u001b[39m \u001b[39mint\u001b[39m(\u001b[39minput\u001b[39m(\u001b[39m\"\u001b[39m\u001b[39mEnter number 2: \u001b[39m\u001b[39m\"\u001b[39m))\n",
      "\u001b[1;31mTypeError\u001b[0m: cannot unpack non-iterable int object"
     ]
    }
   ],
   "source": [
    "n1, n2, n3, n4 = 0, 0, 0, 0 # declare variables\n",
    "\n",
    "n1 = int(input(\"Enter number 1: \"))\n",
    "n2 = int(input(\"Enter number 2: \"))\n",
    "n3 = int(input(\"Enter number 3: \"))\n",
    "n4 = int(input(\"Enter number 4: \"))\n",
    "\n",
    "print(f\"The four numbers are {n1}, {n2}, {n3}, {n4}\")\n",
    "\n",
    "sum = n1 + n2 + n3 + n4\n",
    "difference = n1 - n4\n",
    "product = n2 * n3\n",
    "quotient = (n1 + n2) / (n3 + n4)\n",
    "remainder = (n1 * n2) % (n3 * n4)\n",
    "power = n1 ** n2\n",
    "\n",
    "print(f\"Sum is {sum}\")\n",
    "print(f\"Difference is {difference}\")\n",
    "print(f\"Product is {product}\")\n",
    "print(f\"Quotient is {quotient}\")\n",
    "print(f\"Remainder is {remainder}\")\n",
    "print(f\"Power is {power}\")"
   ]
  }
 ],
 "metadata": {
  "kernelspec": {
   "display_name": "Python 3.9.12 ('base')",
   "language": "python",
   "name": "python3"
  },
  "language_info": {
   "codemirror_mode": {
    "name": "ipython",
    "version": 3
   },
   "file_extension": ".py",
   "mimetype": "text/x-python",
   "name": "python",
   "nbconvert_exporter": "python",
   "pygments_lexer": "ipython3",
   "version": "3.9.12"
  },
  "orig_nbformat": 4,
  "vscode": {
   "interpreter": {
    "hash": "b63652e3f478dee6379201845bbd2ec54e866bff8b44390bada2e7a2e51d39d6"
   }
  }
 },
 "nbformat": 4,
 "nbformat_minor": 2
}
