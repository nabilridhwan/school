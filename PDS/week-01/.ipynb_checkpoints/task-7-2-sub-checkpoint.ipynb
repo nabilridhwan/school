{
 "cells": [
  {
   "cell_type": "code",
   "execution_count": 1,
   "metadata": {},
   "outputs": [
    {
     "name": "stdout",
     "output_type": "stream",
     "text": [
      "This program prints the sum of a range of numbers from x to y.\n",
      "For example, if x is 10 and y is 50, the program will print the sum of numbers from 10 to 50\n",
      "Please enter the value of x: a\n",
      "Please enter the value of y: 1\n",
      "One or more of your inputs are not numeric!\n",
      "Unable to continue. Program terminated\n",
      "One or more of your inputs are not numeric!\n",
      "Unable to continue. Program terminated.\n"
     ]
    }
   ],
   "source": [
    "print(\"This program prints the sum of a range of numbers from x to y.\")\n",
    "print(\"For example, if x is 10 and y is 50, the program will print the sum of numbers from 10 to 50\")\n",
    "\n",
    "x = input(\"Please enter the value of x: \")\n",
    "y = input(\"Please enter the value of y: \")\n",
    "\n",
    "if(x.isnumeric() and y.isnumeric()):\n",
    "    x = int(x)\n",
    "    y = int(y)\n",
    "\n",
    "    if(x > y):\n",
    "        print(\"You did not enter a value of y that is greater than x\")\n",
    "        print(\"Unable to continue. Program terminated\")\n",
    "    else:\n",
    "        sum = 0\n",
    "        for i in range(x, y+1):\n",
    "            sum += i\n",
    "        print(f\"The sum of numbers between {x} and {y} is {sum}\")\n",
    "\n",
    "else:\n",
    "    print(\"One or more of your inputs are not numeric!\")\n",
    "    print(\"Unable to continue. Program terminated\")"
   ]
  },
  {
   "cell_type": "code",
   "execution_count": null,
   "metadata": {},
   "outputs": [],
   "source": []
  }
 ],
 "metadata": {
  "kernelspec": {
   "display_name": "Python 3 (ipykernel)",
   "language": "python",
   "name": "python3"
  },
  "language_info": {
   "codemirror_mode": {
    "name": "ipython",
    "version": 3
   },
   "file_extension": ".py",
   "mimetype": "text/x-python",
   "name": "python",
   "nbconvert_exporter": "python",
   "pygments_lexer": "ipython3",
   "version": "3.9.12"
  },
  "vscode": {
   "interpreter": {
    "hash": "b63652e3f478dee6379201845bbd2ec54e866bff8b44390bada2e7a2e51d39d6"
   }
  }
 },
 "nbformat": 4,
 "nbformat_minor": 2
}
