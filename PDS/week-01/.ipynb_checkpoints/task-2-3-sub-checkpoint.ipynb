{
 "cells": [
  {
   "cell_type": "code",
   "execution_count": 4,
   "metadata": {},
   "outputs": [
    {
     "name": "stdout",
     "output_type": "stream",
     "text": [
      "*********************************************\n",
      "Calculate the average electricity bill for 6 months\n",
      "*********************************************\n",
      "Enter bill #1:156.79\n",
      "Enter bill #2:138.67\n",
      "Enter bill #3:120.34\n",
      "Enter bill #4:179.33\n",
      "Enter bill #5:162.10\n",
      "Enter bill #6:142.89\n",
      "\n",
      "Your electricity bills for the past 6 months are: \n",
      "$156.79, $138.67, $120.34, $179.33, $162.10, $142.89\n",
      "\n",
      "\n",
      "Your average electricity bill is $150.02\n"
     ]
    }
   ],
   "source": [
    "print(\"*********************************************\")\n",
    "print(\"Calculate the average electricity bill for 6 months\")\n",
    "print(\"*********************************************\")\n",
    "\n",
    "bill_1 = float(input(\"Enter bill #1:\"))\n",
    "bill_2 = float(input(\"Enter bill #2:\"))\n",
    "bill_3 = float(input(\"Enter bill #3:\"))\n",
    "bill_4 = float(input(\"Enter bill #4:\"))\n",
    "bill_5 = float(input(\"Enter bill #5:\"))\n",
    "bill_6 = float(input(\"Enter bill #6:\"))\n",
    "\n",
    "print(\"\\nYour electricity bills for the past 6 months are: \")\n",
    "print(f\"${bill_1:.2f}\", end=\", \")\n",
    "print(f\"${bill_2:.2f}\", end=\", \")\n",
    "print(f\"${bill_3:.2f}\", end=\", \")\n",
    "print(f\"${bill_4:.2f}\", end=\", \")\n",
    "print(f\"${bill_5:.2f}\", end=\", \")\n",
    "print(f\"${bill_6:.2f}\")\n",
    "\n",
    "print(f\"\\n\\nYour average electricity bill is ${(bill_1 + bill_2 + bill_3 + bill_4 + bill_5 + bill_6)/6:.2f}\")\n"
   ]
  },
  {
   "cell_type": "markdown",
   "metadata": {},
   "source": [
    "# "
   ]
  }
 ],
 "metadata": {
  "kernelspec": {
   "display_name": "Python 3 (ipykernel)",
   "language": "python",
   "name": "python3"
  },
  "language_info": {
   "codemirror_mode": {
    "name": "ipython",
    "version": 3
   },
   "file_extension": ".py",
   "mimetype": "text/x-python",
   "name": "python",
   "nbconvert_exporter": "python",
   "pygments_lexer": "ipython3",
   "version": "3.9.12"
  },
  "vscode": {
   "interpreter": {
    "hash": "b63652e3f478dee6379201845bbd2ec54e866bff8b44390bada2e7a2e51d39d6"
   }
  }
 },
 "nbformat": 4,
 "nbformat_minor": 2
}
