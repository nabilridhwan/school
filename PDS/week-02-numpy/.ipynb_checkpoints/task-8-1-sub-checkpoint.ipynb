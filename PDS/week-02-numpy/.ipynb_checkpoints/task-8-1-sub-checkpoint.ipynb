{
 "cells": [
  {
   "cell_type": "code",
   "execution_count": 7,
   "metadata": {},
   "outputs": [],
   "source": [
    "import numpy as np"
   ]
  },
  {
   "cell_type": "code",
   "execution_count": 8,
   "metadata": {},
   "outputs": [
    {
     "name": "stdout",
     "output_type": "stream",
     "text": [
      "**Before sorting**\n",
      "[137 196 182 192 199 139 140 151 189 131]\n",
      "\n",
      "**After sorting**\n",
      "[131 137 139 140 151 182 189 192 196 199]\n"
     ]
    }
   ],
   "source": [
    "arr_1 = np.random.randint(100,200,10)\n",
    "\n",
    "print(\"**Before sorting**\")\n",
    "print(arr_1)\n",
    "print(\"\\n**After sorting**\")\n",
    "print(np.sort(arr_1))"
   ]
  },
  {
   "cell_type": "code",
   "execution_count": 9,
   "metadata": {},
   "outputs": [
    {
     "name": "stdout",
     "output_type": "stream",
     "text": [
      "**Before sorting**\n",
      "[[10 10 17  3  1]\n",
      " [ 8  5 15 13 14]\n",
      " [ 2 18 12  1  1]]\n",
      "\n",
      "**After sorting**\n",
      "[[ 1  3 10 10 17]\n",
      " [ 5  8 13 14 15]\n",
      " [ 1  1  2 12 18]]\n"
     ]
    }
   ],
   "source": [
    "# TODO: Complete\n",
    "arr_2 = np.random.randint(1,20,(3,5))\n",
    "\n",
    "print(\"**Before sorting**\")\n",
    "print(arr_2)\n",
    "print(\"\\n**After sorting**\")\n",
    "print(np.sort(arr_2,axis= 0))"
   ]
  },
  {
   "cell_type": "code",
   "execution_count": null,
   "metadata": {},
   "outputs": [],
   "source": []
  }
 ],
 "metadata": {
  "kernelspec": {
   "display_name": "Python 3 (ipykernel)",
   "language": "python",
   "name": "python3"
  },
  "language_info": {
   "codemirror_mode": {
    "name": "ipython",
    "version": 3
   },
   "file_extension": ".py",
   "mimetype": "text/x-python",
   "name": "python",
   "nbconvert_exporter": "python",
   "pygments_lexer": "ipython3",
   "version": "3.9.13"
  },
  "vscode": {
   "interpreter": {
    "hash": "b63652e3f478dee6379201845bbd2ec54e866bff8b44390bada2e7a2e51d39d6"
   }
  }
 },
 "nbformat": 4,
 "nbformat_minor": 2
}
