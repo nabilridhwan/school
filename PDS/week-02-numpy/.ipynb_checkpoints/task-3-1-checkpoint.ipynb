{
 "cells": [
  {
   "cell_type": "code",
   "execution_count": 2,
   "metadata": {},
   "outputs": [],
   "source": [
    "import numpy as np"
   ]
  },
  {
   "cell_type": "code",
   "execution_count": 3,
   "metadata": {},
   "outputs": [],
   "source": [
    "from numpy import datetime64\n",
    "\n",
    "array_1 = np.array([0, 1, 2, 3, 4, 5, 6, 7])\n",
    "array_2 = np.array(['Mary', 'John', 'Peter', 'Christine'])\n",
    "array_3 = np.arange('2017-10-01', '2017-10-31', dtype=datetime64)\n",
    "array_4 = np.random.random(10)"
   ]
  },
  {
   "cell_type": "code",
   "execution_count": 4,
   "metadata": {},
   "outputs": [
    {
     "name": "stdout",
     "output_type": "stream",
     "text": [
      "[0 1 2 3 4 5 6 7]\n",
      "['Mary' 'John' 'Peter' 'Christine']\n",
      "['2017-10-01' '2017-10-02' '2017-10-03' '2017-10-04' '2017-10-05'\n",
      " '2017-10-06' '2017-10-07' '2017-10-08' '2017-10-09' '2017-10-10'\n",
      " '2017-10-11' '2017-10-12' '2017-10-13' '2017-10-14' '2017-10-15'\n",
      " '2017-10-16' '2017-10-17' '2017-10-18' '2017-10-19' '2017-10-20'\n",
      " '2017-10-21' '2017-10-22' '2017-10-23' '2017-10-24' '2017-10-25'\n",
      " '2017-10-26' '2017-10-27' '2017-10-28' '2017-10-29' '2017-10-30']\n",
      "[0.3059368  0.08447699 0.89539506 0.64841609 0.99138504 0.75448329\n",
      " 0.15148521 0.4554372  0.78524072 0.66433157]\n"
     ]
    }
   ],
   "source": [
    "print(array_1)\n",
    "print(array_2)\n",
    "print(array_3)\n",
    "print(array_4)"
   ]
  },
  {
   "cell_type": "code",
   "execution_count": 6,
   "metadata": {},
   "outputs": [
    {
     "name": "stdout",
     "output_type": "stream",
     "text": [
      "[[ 1.   2.   3. ]\n",
      " [ 4.   5.   6. ]\n",
      " [ 7.   8.   9. ]\n",
      " [ 1.5  1.5  1.5]\n",
      " [ 1.5  1.5  1.5]\n",
      " [ 1.5  1.5  1.5]\n",
      " [ 0.   1.   2. ]\n",
      " [ 3.   4.   5. ]\n",
      " [ 6.   7.   8. ]\n",
      " [ 9.  10.  11. ]\n",
      " [12.  13.  14. ]]\n"
     ]
    }
   ],
   "source": [
    "a = np.array([[ 1,2,3],[ 4,5,6],[7,8,9]])\n",
    "b = np.full((3,3),1.5)\n",
    "c = np.arange(0,15).reshape(5,3)\n",
    "\n",
    "print(np.concatenate((a,b,c), axis=0))"
   ]
  },
  {
   "cell_type": "code",
   "execution_count": 7,
   "metadata": {},
   "outputs": [
    {
     "name": "stdout",
     "output_type": "stream",
     "text": [
      "[[  1   2   3   4 100 157 170 145 131 147   0   1   2   3   4   5   6   7\n",
      "    8   9]\n",
      " [  4   5   6   7 162 109 197 168 117 175  10  11  12  13  14  15  16  17\n",
      "   18  19]\n",
      " [  7   8   9  10 164 132 175 149 167 117  20  21  22  23  24  25  26  27\n",
      "   28  29]\n",
      " [ 11  12  13  14 159 103 156 108 155 166  30  31  32  33  34  35  36  37\n",
      "   38  39]]\n"
     ]
    }
   ],
   "source": [
    "a = np.array([[ 1,2,3,4],[ 4,5,6,7],[7,8,9,10],[11,12,13,14]])\n",
    "b = np.random.randint(100,200,(4,6))\n",
    "c = np.arange(0,40).reshape(4,10)\n",
    "print(np.concatenate((a,b,c), axis=1))"
   ]
  },
  {
   "cell_type": "code",
   "execution_count": null,
   "metadata": {},
   "outputs": [],
   "source": []
  }
 ],
 "metadata": {
  "kernelspec": {
   "display_name": "Python 3 (ipykernel)",
   "language": "python",
   "name": "python3"
  },
  "language_info": {
   "codemirror_mode": {
    "name": "ipython",
    "version": 3
   },
   "file_extension": ".py",
   "mimetype": "text/x-python",
   "name": "python",
   "nbconvert_exporter": "python",
   "pygments_lexer": "ipython3",
   "version": "3.9.13"
  },
  "vscode": {
   "interpreter": {
    "hash": "b63652e3f478dee6379201845bbd2ec54e866bff8b44390bada2e7a2e51d39d6"
   }
  }
 },
 "nbformat": 4,
 "nbformat_minor": 2
}
