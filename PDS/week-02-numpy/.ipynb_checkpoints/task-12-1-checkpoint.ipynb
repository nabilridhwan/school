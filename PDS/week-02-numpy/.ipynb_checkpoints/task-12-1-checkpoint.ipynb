{
 "cells": [
  {
   "cell_type": "code",
   "execution_count": 33,
   "id": "c522b7e2",
   "metadata": {},
   "outputs": [
    {
     "name": "stdout",
     "output_type": "stream",
     "text": [
      "There are altogether 855 rows in the data file singapore-residents-by-ethnic-group-and-sex-end-june-annual.csv\n",
      "\n",
      "There are 57 years of data captured from 1960 to 2016\n",
      "\n",
      "Year with the highest total number of residents: 2016\n",
      "Population Count: 3933559 \n",
      "\n",
      "Year with the lowest total number of residents: 1960\n",
      "Population Count: 1646400 \n",
      "\n"
     ]
    }
   ],
   "source": [
    "import numpy as np\n",
    "\n",
    "### Read the csv file using genfromtxt\n",
    "filename = \"singapore-residents-by-ethnic-group-and-sex-end-june-annual.csv\"\n",
    "data = np.genfromtxt(filename, dtype=['i2', 'U50', 'i8'], \n",
    "                     delimiter=',', names=True)\n",
    "\n",
    "### Print out total rows of data in the file\n",
    "print(f'There are altogether {len(data)} rows in the data file {filename}')\n",
    "print()\n",
    "\n",
    "### Print out the number of years of data captured\n",
    "data_years = data['year']\n",
    "years = np.unique(data_years)\n",
    "print(f'There are {len(years)} years of data captured from {np.min(years)} to {np.max(years)}')\n",
    "print()\n",
    "\n",
    "## Extract only the rows with Total Residents\" - using boolean indexing\n",
    "keyword = 'Total Residents'\n",
    "data_totalresidents = data[data['level_1'] == keyword]\n",
    "# print(data_totalresidents)\n",
    "\n",
    "### Print out the years which has the highest total number of residents \n",
    "max_residents = data_totalresidents['value'].max()\n",
    "argmax_residents = data_totalresidents['value'].argmax()\n",
    "print(f\"Year with the highest total number of residents: {data_totalresidents[argmax_residents]['year']}\")\n",
    "print(f'Population Count: { max_residents } ')\n",
    "print()\n",
    "\n",
    "### Print out the years which has the lowest total number of residents\n",
    "min_residents = data_totalresidents['value'].min()\n",
    "argmin_residents = data_totalresidents['value'].argmin()\n",
    "print(f\"Year with the lowest total number of residents: {data_totalresidents[argmin_residents]['year']}\")\n",
    "print(f'Population Count: { min_residents } ')\n",
    "print()"
   ]
  },
  {
   "cell_type": "code",
   "execution_count": null,
   "id": "069d4e24",
   "metadata": {},
   "outputs": [],
   "source": []
  },
  {
   "cell_type": "code",
   "execution_count": null,
   "id": "6f403168",
   "metadata": {},
   "outputs": [],
   "source": []
  },
  {
   "cell_type": "code",
   "execution_count": null,
   "id": "de1fc820",
   "metadata": {},
   "outputs": [],
   "source": []
  }
 ],
 "metadata": {
  "kernelspec": {
   "display_name": "Python 3 (ipykernel)",
   "language": "python",
   "name": "python3"
  },
  "language_info": {
   "codemirror_mode": {
    "name": "ipython",
    "version": 3
   },
   "file_extension": ".py",
   "mimetype": "text/x-python",
   "name": "python",
   "nbconvert_exporter": "python",
   "pygments_lexer": "ipython3",
   "version": "3.9.13"
  }
 },
 "nbformat": 4,
 "nbformat_minor": 5
}
