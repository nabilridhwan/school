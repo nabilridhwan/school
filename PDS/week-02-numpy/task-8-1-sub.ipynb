{
 "cells": [
  {
   "cell_type": "code",
   "execution_count": 14,
   "metadata": {},
   "outputs": [],
   "source": [
    "import numpy as np"
   ]
  },
  {
   "cell_type": "code",
   "execution_count": 15,
   "metadata": {},
   "outputs": [
    {
     "name": "stdout",
     "output_type": "stream",
     "text": [
      "**Before sorting**\n",
      "[133 106 109 183 162 172 156 199 175 163]\n",
      "\n",
      "**After sorting**\n",
      "[106 109 133 156 162 163 172 175 183 199]\n"
     ]
    }
   ],
   "source": [
    "arr_1 = np.random.randint(100,200,10)\n",
    "\n",
    "print(\"**Before sorting**\")\n",
    "print(arr_1)\n",
    "print(\"\\n**After sorting**\")\n",
    "print(np.sort(arr_1))"
   ]
  },
  {
   "cell_type": "code",
   "execution_count": 16,
   "metadata": {},
   "outputs": [
    {
     "name": "stdout",
     "output_type": "stream",
     "text": [
      "**Before sorting**\n",
      "[[15  9  8  9 19]\n",
      " [15  9  1 18  1]\n",
      " [ 5  1 18  9 12]]\n",
      "\n",
      "**After sorting**\n",
      "[[ 5  1  1  9  1]\n",
      " [15  9  8  9 12]\n",
      " [15  9 18 18 19]]\n"
     ]
    }
   ],
   "source": [
    "# TODO: Complete\n",
    "arr_2 = np.random.randint(1,20,(3,5))\n",
    "\n",
    "print(\"**Before sorting**\")\n",
    "print(arr_2)\n",
    "print(\"\\n**After sorting**\")\n",
    "print(np.sort(arr_2,axis= 0))"
   ]
  },
  {
   "cell_type": "code",
   "execution_count": 17,
   "metadata": {},
   "outputs": [
    {
     "name": "stdout",
     "output_type": "stream",
     "text": [
      "**Before sorting - original array **\n",
      "[[170 180 134 183 121]\n",
      " [133 133 175 193 190]]\n",
      "\n",
      "**After calling sort method - original array **\n",
      "[[170 180 134 183 121]\n",
      " [133 133 175 193 190]]\n",
      "\n",
      "**After calling sort method - copy of sorted array **\n",
      "[[121 134 170 180 183]\n",
      " [133 133 175 190 193]]\n"
     ]
    }
   ],
   "source": [
    "arr_3 = np.random.randint(100,200,(2,5))\n",
    "\n",
    "print(\"**Before sorting - original array **\")\n",
    "print(arr_3)\n",
    "\n",
    "print(\"\")\n",
    "\n",
    "sorted_arr_3 = np.sort(arr_3)\n",
    "\n",
    "print(\"**After calling sort method - original array **\")\n",
    "print(arr_3)\n",
    "\n",
    "print(\"\")\n",
    "\n",
    "print(\"**After calling sort method - copy of sorted array **\")\n",
    "print(sorted_arr_3)"
   ]
  },
  {
   "cell_type": "code",
   "execution_count": null,
   "metadata": {},
   "outputs": [],
   "source": []
  }
 ],
 "metadata": {
  "kernelspec": {
   "display_name": "Python 3 (ipykernel)",
   "language": "python",
   "name": "python3"
  },
  "language_info": {
   "codemirror_mode": {
    "name": "ipython",
    "version": 3
   },
   "file_extension": ".py",
   "mimetype": "text/x-python",
   "name": "python",
   "nbconvert_exporter": "python",
   "pygments_lexer": "ipython3",
   "version": "3.9.13"
  },
  "vscode": {
   "interpreter": {
    "hash": "b63652e3f478dee6379201845bbd2ec54e866bff8b44390bada2e7a2e51d39d6"
   }
  }
 },
 "nbformat": 4,
 "nbformat_minor": 2
}
