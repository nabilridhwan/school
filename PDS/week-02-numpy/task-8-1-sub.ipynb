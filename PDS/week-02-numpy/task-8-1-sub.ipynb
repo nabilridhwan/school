{
 "cells": [
  {
   "cell_type": "code",
   "execution_count": 2,
   "metadata": {},
   "outputs": [],
   "source": [
    "import numpy as np"
   ]
  },
  {
   "cell_type": "code",
   "execution_count": 3,
   "metadata": {},
   "outputs": [
    {
     "name": "stdout",
     "output_type": "stream",
     "text": [
      "**Before sorting**\n",
      "[174 112 180 194 169 147 168 144 180 167]\n",
      "\n",
      "**After sorting**\n",
      "[112 144 147 167 168 169 174 180 180 194]\n"
     ]
    }
   ],
   "source": [
    "arr_1 = np.random.randint(100,200,10)\n",
    "\n",
    "print(\"**Before sorting**\")\n",
    "print(arr_1)\n",
    "print(\"\\n**After sorting**\")\n",
    "print(np.sort(arr_1))"
   ]
  },
  {
   "cell_type": "code",
   "execution_count": 4,
   "metadata": {},
   "outputs": [
    {
     "name": "stdout",
     "output_type": "stream",
     "text": [
      "**Before sorting**\n",
      "[[11 16  4 16  4]\n",
      " [15 14 19 18  4]\n",
      " [ 1 12  8 12  5]]\n",
      "\n",
      "**After sorting**\n"
     ]
    }
   ],
   "source": [
    "# TODO: Complete\n",
    "arr_2 = np.random.randint(1,20,(3,5))\n",
    "\n",
    "print(\"**Before sorting**\")\n",
    "print(arr_2)\n",
    "print(\"\\n**After sorting**\")\n",
    "idx = np.argsort(arr_2,axis= -1)"
   ]
  }
 ],
 "metadata": {
  "kernelspec": {
   "display_name": "Python 3.9.12 ('base')",
   "language": "python",
   "name": "python3"
  },
  "language_info": {
   "codemirror_mode": {
    "name": "ipython",
    "version": 3
   },
   "file_extension": ".py",
   "mimetype": "text/x-python",
   "name": "python",
   "nbconvert_exporter": "python",
   "pygments_lexer": "ipython3",
   "version": "3.9.12"
  },
  "orig_nbformat": 4,
  "vscode": {
   "interpreter": {
    "hash": "b63652e3f478dee6379201845bbd2ec54e866bff8b44390bada2e7a2e51d39d6"
   }
  }
 },
 "nbformat": 4,
 "nbformat_minor": 2
}
