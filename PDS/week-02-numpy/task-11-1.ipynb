{
 "cells": [
  {
   "cell_type": "code",
   "execution_count": 2,
   "id": "a423ba4e",
   "metadata": {},
   "outputs": [
    {
     "name": "stdout",
     "output_type": "stream",
     "text": [
      "Contents of array a\n",
      "[[ 0  1  2  3  4  5  6  7  8  9]\n",
      " [10 11 12 13 14 15 16 17 18 19]\n",
      " [20 21 22 23 24 25 26 27 28 29]\n",
      " [30 31 32 33 34 35 36 37 38 39]]\n",
      "\n",
      "*** Sum of all numbers in a ***\n",
      "780\n",
      "\n",
      "*** Mean of all numbers in a ***\n",
      "19.5\n",
      "\n",
      "*** Sum of all numbers in each row ***\n",
      "Row 1 sum = 45\n",
      "Row 2 sum = 145\n",
      "Row 3 sum = 245\n",
      "Row 4 sum = 345\n"
     ]
    }
   ],
   "source": [
    "import numpy as np\n",
    "\n",
    "a = np.array((np.arange(0,10),\n",
    "             np.arange(10,20),\n",
    "             np.arange(20,30),\n",
    "             np.arange(30,40)))\n",
    "\n",
    "print(\"Contents of array a\")\n",
    "print(a)\n",
    "\n",
    "print(\"\\n*** Sum of all numbers in a ***\")\n",
    "print(np.sum(a))\n",
    "\n",
    "print(\"\\n*** Mean of all numbers in a ***\")\n",
    "print(np.mean(a))\n",
    "\n",
    "print(\"\\n*** Sum of all numbers in each row ***\")\n",
    "s = np.sum(a, axis=1)\n",
    "row_1_sum = s[0]\n",
    "row_2_sum = s[1]\n",
    "row_3_sum = s[2]\n",
    "row_4_sum = s[3]\n",
    "\n",
    "print(\"Row 1 sum = \" + str(row_1_sum))\n",
    "print(\"Row 2 sum = \" + str(row_2_sum))\n",
    "print(\"Row 3 sum = \" + str(row_3_sum))\n",
    "print(\"Row 4 sum = \" + str(row_4_sum))"
   ]
  },
  {
   "cell_type": "code",
   "execution_count": null,
   "id": "fcda2292",
   "metadata": {},
   "outputs": [],
   "source": []
  }
 ],
 "metadata": {
  "kernelspec": {
   "display_name": "Python 3 (ipykernel)",
   "language": "python",
   "name": "python3"
  },
  "language_info": {
   "codemirror_mode": {
    "name": "ipython",
    "version": 3
   },
   "file_extension": ".py",
   "mimetype": "text/x-python",
   "name": "python",
   "nbconvert_exporter": "python",
   "pygments_lexer": "ipython3",
   "version": "3.9.13"
  }
 },
 "nbformat": 4,
 "nbformat_minor": 5
}
