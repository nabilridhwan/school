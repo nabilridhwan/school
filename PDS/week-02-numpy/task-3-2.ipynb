{
 "cells": [
  {
   "cell_type": "code",
   "execution_count": 6,
   "metadata": {},
   "outputs": [
    {
     "name": "stderr",
     "output_type": "stream",
     "text": [
      "C:\\Users\\nabri\\AppData\\Local\\Temp\\ipykernel_16940\\2530521129.py:17: DeprecationWarning: This function is deprecated. Please call randint(1, 6 + 1) instead\n",
      "  np.random.random_integers(1, 6, (4,8))\n"
     ]
    },
    {
     "data": {
      "text/plain": [
       "array([[6, 3, 1, 2, 3, 2, 6, 3],\n",
       "       [5, 3, 6, 5, 2, 1, 2, 2],\n",
       "       [4, 4, 4, 4, 3, 2, 4, 6],\n",
       "       [5, 6, 1, 5, 5, 1, 2, 1]])"
      ]
     },
     "execution_count": 6,
     "metadata": {},
     "output_type": "execute_result"
    }
   ],
   "source": [
    "import numpy as np\n",
    "\n",
    "np.array([[\n",
    "    1,2,3,4\n",
    "],[5,6,7,8]])\n",
    "\n",
    "np.array([\n",
    "    [1.6, 1.7, 1.8],\n",
    "    [2.5, 5.0, 7.5],\n",
    "    [20,40,60]\n",
    "])\n",
    "\n",
    "np.full((3,4), 0)\n",
    "\n",
    "np.full((4,3), 10.5)\n",
    "\n",
    "np.random.random_integers(1, 6, (4,8))"
   ]
  }
 ],
 "metadata": {
  "kernelspec": {
   "display_name": "Python 3.9.12 ('base')",
   "language": "python",
   "name": "python3"
  },
  "language_info": {
   "codemirror_mode": {
    "name": "ipython",
    "version": 3
   },
   "file_extension": ".py",
   "mimetype": "text/x-python",
   "name": "python",
   "nbconvert_exporter": "python",
   "pygments_lexer": "ipython3",
   "version": "3.9.12"
  },
  "orig_nbformat": 4,
  "vscode": {
   "interpreter": {
    "hash": "b63652e3f478dee6379201845bbd2ec54e866bff8b44390bada2e7a2e51d39d6"
   }
  }
 },
 "nbformat": 4,
 "nbformat_minor": 2
}
