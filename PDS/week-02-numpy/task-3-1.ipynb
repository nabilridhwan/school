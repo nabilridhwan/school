{
 "cells": [
  {
   "cell_type": "code",
   "execution_count": 1,
   "metadata": {},
   "outputs": [],
   "source": [
    "import numpy as np"
   ]
  },
  {
   "cell_type": "code",
   "execution_count": 6,
   "metadata": {},
   "outputs": [
    {
     "name": "stdout",
     "output_type": "stream",
     "text": [
      "[0.59847476 0.98997242 0.14598252 0.57982372 0.03666197 0.9005714\n",
      " 0.68100731 0.75061825 0.20706464 0.62643222]\n"
     ]
    }
   ],
   "source": [
    "from numpy import datetime64\n",
    "\n",
    "\n",
    "array_1 = np.array([0, 1, 2, 3, 4, 5, 6, 7])\n",
    "array_2 = np.array(['Mary', 'John', 'Peter', 'Christine'])\n",
    "array_3 = np.arange('2017-10-01', '2017-10-31', dtype=datetime64)\n",
    "array_4 = np.random.random(10)"
   ]
  },
  {
   "cell_type": "code",
   "execution_count": null,
   "metadata": {},
   "outputs": [],
   "source": [
    "print(array_1)\n",
    "print(array_2)\n",
    "print(array_3)\n",
    "print(array_4)"
   ]
  }
 ],
 "metadata": {
  "kernelspec": {
   "display_name": "Python 3.9.12 ('base')",
   "language": "python",
   "name": "python3"
  },
  "language_info": {
   "codemirror_mode": {
    "name": "ipython",
    "version": 3
   },
   "file_extension": ".py",
   "mimetype": "text/x-python",
   "name": "python",
   "nbconvert_exporter": "python",
   "pygments_lexer": "ipython3",
   "version": "3.9.12"
  },
  "orig_nbformat": 4,
  "vscode": {
   "interpreter": {
    "hash": "b63652e3f478dee6379201845bbd2ec54e866bff8b44390bada2e7a2e51d39d6"
   }
  }
 },
 "nbformat": 4,
 "nbformat_minor": 2
}
