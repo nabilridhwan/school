{
 "cells": [
  {
   "cell_type": "code",
   "execution_count": 1,
   "metadata": {},
   "outputs": [],
   "source": [
    "import numpy as np"
   ]
  },
  {
   "cell_type": "code",
   "execution_count": 7,
   "metadata": {},
   "outputs": [
    {
     "name": "stdout",
     "output_type": "stream",
     "text": [
      "[[ 1.   2.   3. ]\n",
      " [ 4.   5.   6. ]\n",
      " [ 7.   8.   9. ]\n",
      " [ 1.5  1.5  1.5]\n",
      " [ 1.5  1.5  1.5]\n",
      " [ 1.5  1.5  1.5]\n",
      " [ 0.   1.   2. ]\n",
      " [ 3.   4.   5. ]\n",
      " [ 6.   7.   8. ]\n",
      " [ 9.  10.  11. ]\n",
      " [12.  13.  14. ]]\n"
     ]
    }
   ],
   "source": [
    "a = np.array([[ 1,2,3],[ 4,5,6],[7,8,9]])\n",
    "b = np.full((3,3),1.5)\n",
    "c = np.arange(0,15).reshape(5,3)\n",
    "\n",
    "concat_x = np.concatenate((a,b,c), axis=0)\n",
    "print(concat_x)"
   ]
  },
  {
   "cell_type": "code",
   "execution_count": 8,
   "metadata": {},
   "outputs": [
    {
     "name": "stdout",
     "output_type": "stream",
     "text": [
      "[[  1   2   3   4 199 192 158 140 192 112   0   1   2   3   4   5   6   7\n",
      "    8   9]\n",
      " [  4   5   6   7 101 140 117 196 137 187  10  11  12  13  14  15  16  17\n",
      "   18  19]\n",
      " [  7   8   9  10 121 149 192 131 140 143  20  21  22  23  24  25  26  27\n",
      "   28  29]\n",
      " [ 11  12  13  14 199 168 126 180 151 194  30  31  32  33  34  35  36  37\n",
      "   38  39]]\n"
     ]
    }
   ],
   "source": [
    "a = np.array([[ 1,2,3,4],[ 4,5,6,7],[7,8,9,10],[11,12,13,14]])\n",
    "b = np.random.randint(100,200,(4,6))\n",
    "c = np.arange(0,40).reshape(4,10)\n",
    "\n",
    "concat_y = np.concatenate((a,b,c), axis=1)\n",
    "print(concat_y)"
   ]
  }
 ],
 "metadata": {
  "kernelspec": {
   "display_name": "Python 3.9.12 ('base')",
   "language": "python",
   "name": "python3"
  },
  "language_info": {
   "codemirror_mode": {
    "name": "ipython",
    "version": 3
   },
   "file_extension": ".py",
   "mimetype": "text/x-python",
   "name": "python",
   "nbconvert_exporter": "python",
   "pygments_lexer": "ipython3",
   "version": "3.9.12"
  },
  "orig_nbformat": 4,
  "vscode": {
   "interpreter": {
    "hash": "b63652e3f478dee6379201845bbd2ec54e866bff8b44390bada2e7a2e51d39d6"
   }
  }
 },
 "nbformat": 4,
 "nbformat_minor": 2
}
