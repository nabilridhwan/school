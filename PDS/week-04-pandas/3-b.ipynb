{
 "cells": [
  {
   "cell_type": "code",
   "execution_count": 2,
   "metadata": {},
   "outputs": [],
   "source": [
    "import pandas as pd\n",
    "import numpy as np"
   ]
  },
  {
   "cell_type": "code",
   "execution_count": 4,
   "metadata": {},
   "outputs": [
    {
     "name": "stdout",
     "output_type": "stream",
     "text": [
      "        Team 1  Team 2  Team 3  Team 4  Team 5\n",
      "Game 1     185     136     162     193     150\n",
      "Game 2     178     178     138     193     123\n",
      "Game 3     137     190     175     124     171\n",
      "Game 4     131     183     161     163     136\n",
      "Game 5     151     131     142     115     199\n"
     ]
    }
   ],
   "source": [
    "arr = np.random.randint(100, 200, (5,5))\n",
    "df = pd.DataFrame(arr)\n",
    "df.columns = ['Team 1', 'Team 2', 'Team 3', 'Team 4', 'Team 5']\n",
    "df.index = ['Game 1', 'Game 2', 'Game 3', 'Game 4', 'Game 5']\n",
    "\n",
    "print(df)"
   ]
  }
 ],
 "metadata": {
  "kernelspec": {
   "display_name": "base",
   "language": "python",
   "name": "python3"
  },
  "language_info": {
   "codemirror_mode": {
    "name": "ipython",
    "version": 3
   },
   "file_extension": ".py",
   "mimetype": "text/x-python",
   "name": "python",
   "nbconvert_exporter": "python",
   "pygments_lexer": "ipython3",
   "version": "3.9.13"
  },
  "orig_nbformat": 4,
  "vscode": {
   "interpreter": {
    "hash": "ad2bdc8ecc057115af97d19610ffacc2b4e99fae6737bb82f5d7fb13d2f2c186"
   }
  }
 },
 "nbformat": 4,
 "nbformat_minor": 2
}
