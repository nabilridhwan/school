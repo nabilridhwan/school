{
 "cells": [
  {
   "cell_type": "code",
   "execution_count": 1,
   "metadata": {},
   "outputs": [],
   "source": [
    "import pandas as pd\n",
    "import numpy as np"
   ]
  },
  {
   "cell_type": "code",
   "execution_count": 2,
   "metadata": {},
   "outputs": [
    {
     "name": "stdout",
     "output_type": "stream",
     "text": [
      "         2010  2011  2012  2013  2014\n",
      "Females  6300  7281  7114  8170  7620\n",
      "Males    6496  6428  6736  7785  7756\n"
     ]
    }
   ],
   "source": [
    "uni_graduates = {\n",
    " 2010:{'Females':6300,'Males':6496}, 2011:{'Females':7281,'Males':6428},\n",
    " 2012:{'Females':7114,'Males':6736}, 2013:{'Females':8170,'Males':7785},\n",
    " 2014:{'Females':7620,'Males':7756}\n",
    "} \n",
    "\n",
    "\n",
    "df = pd.DataFrame(uni_graduates)\n",
    "\n",
    "print(df)"
   ]
  }
 ],
 "metadata": {
  "kernelspec": {
   "display_name": "base",
   "language": "python",
   "name": "python3"
  },
  "language_info": {
   "codemirror_mode": {
    "name": "ipython",
    "version": 3
   },
   "file_extension": ".py",
   "mimetype": "text/x-python",
   "name": "python",
   "nbconvert_exporter": "python",
   "pygments_lexer": "ipython3",
   "version": "3.9.13"
  },
  "orig_nbformat": 4,
  "vscode": {
   "interpreter": {
    "hash": "ad2bdc8ecc057115af97d19610ffacc2b4e99fae6737bb82f5d7fb13d2f2c186"
   }
  }
 },
 "nbformat": 4,
 "nbformat_minor": 2
}
