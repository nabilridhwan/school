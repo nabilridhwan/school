{
 "cells": [
  {
   "cell_type": "code",
   "execution_count": 5,
   "metadata": {},
   "outputs": [],
   "source": [
    "import pandas as pd\n",
    "import numpy as np"
   ]
  },
  {
   "cell_type": "code",
   "execution_count": 6,
   "metadata": {},
   "outputs": [
    {
     "name": "stdout",
     "output_type": "stream",
     "text": [
      "                   A         B         C         D\n",
      "2013-01-01 -1.517825 -1.871564 -0.975505  0.247675\n",
      "2013-01-02  0.286583 -2.671116 -0.671108 -0.207946\n",
      "2013-01-03  0.276912  0.369741  0.682375 -1.065107\n",
      "2013-01-04  0.356435  0.325082  0.085079  0.807635\n",
      "2013-01-05 -1.236542 -0.324255 -0.565828  1.154524\n",
      "2013-01-06 -0.195343 -0.495168  0.781315 -0.179840\n"
     ]
    }
   ],
   "source": [
    "npArray = np.random.randn(6,4) \n",
    "dates = pd.date_range('20130101', periods=6)\n",
    "\n",
    "df= pd.DataFrame(npArray, index=dates, columns=list('ABCD'))\n",
    "print(df)\n",
    "\n"
   ]
  },
  {
   "cell_type": "code",
   "execution_count": null,
   "metadata": {},
   "outputs": [],
   "source": [
    "\n"
   ]
  }
 ],
 "metadata": {
  "kernelspec": {
   "display_name": "base",
   "language": "python",
   "name": "python3"
  },
  "language_info": {
   "codemirror_mode": {
    "name": "ipython",
    "version": 3
   },
   "file_extension": ".py",
   "mimetype": "text/x-python",
   "name": "python",
   "nbconvert_exporter": "python",
   "pygments_lexer": "ipython3",
   "version": "3.9.13"
  },
  "orig_nbformat": 4,
  "vscode": {
   "interpreter": {
    "hash": "ad2bdc8ecc057115af97d19610ffacc2b4e99fae6737bb82f5d7fb13d2f2c186"
   }
  }
 },
 "nbformat": 4,
 "nbformat_minor": 2
}
