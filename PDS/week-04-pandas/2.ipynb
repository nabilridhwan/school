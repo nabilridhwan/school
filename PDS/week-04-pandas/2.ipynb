{
 "cells": [
  {
   "cell_type": "code",
   "execution_count": 12,
   "metadata": {},
   "outputs": [],
   "source": [
    "import pandas as pd\n",
    "import numpy as np"
   ]
  },
  {
   "cell_type": "code",
   "execution_count": 13,
   "metadata": {},
   "outputs": [
    {
     "name": "stdout",
     "output_type": "stream",
     "text": [
      "0    1.0\n",
      "1    3.0\n",
      "2    5.0\n",
      "3    NaN\n",
      "4    6.0\n",
      "5    8.0\n",
      "dtype: float64\n"
     ]
    }
   ],
   "source": [
    "data = [1.0, 3.0, 5.0, np.nan, 6.0, 8.0]\n",
    "ser = pd.Series(data)\n",
    "print(ser)"
   ]
  },
  {
   "cell_type": "code",
   "execution_count": 16,
   "metadata": {},
   "outputs": [
    {
     "name": "stdout",
     "output_type": "stream",
     "text": [
      "a    1.0\n",
      "b    3.0\n",
      "c    5.0\n",
      "d    NaN\n",
      "e    6.0\n",
      "f    8.0\n",
      "dtype: float64\n"
     ]
    }
   ],
   "source": [
    "ser = pd.Series(data, index=[\"a\", \"b\", \"c\", \"d\", \"e\", \"f\"])\n",
    "print(ser)"
   ]
  },
  {
   "cell_type": "code",
   "execution_count": 18,
   "metadata": {},
   "outputs": [
    {
     "name": "stdout",
     "output_type": "stream",
     "text": [
      "Indonesia                 Melati Putih\n",
      "Malaysia        Hibiscus rosa-sinensis\n",
      "Phillippines                Sampaguita\n",
      "Singapore           Vanda Miss Joaquim\n",
      "dtype: object\n"
     ]
    }
   ],
   "source": [
    "dct = {\n",
    "    \"Indonesia\": \"Melati Putih\",\n",
    "    \"Malaysia\": \"Hibiscus rosa-sinensis\",\n",
    "    \"Phillippines\": \"Sampaguita\",\n",
    "    \"Singapore\": \"Vanda Miss Joaquim\"\n",
    "}\n",
    "\n",
    "ser2 = pd.Series(dct)\n",
    "print(ser2)"
   ]
  },
  {
   "cell_type": "code",
   "execution_count": null,
   "metadata": {},
   "outputs": [],
   "source": [
    "# Create date range from 2017-10-01 to 2017-10-15 in interval of 1 day\n",
    "ser3 = pd.date_range(\"2017-10-01\", \"2017-10-15\", freq=\"D\")\n",
    "print(ser3)"
   ]
  }
 ],
 "metadata": {
  "kernelspec": {
   "display_name": "base",
   "language": "python",
   "name": "python3"
  },
  "language_info": {
   "codemirror_mode": {
    "name": "ipython",
    "version": 3
   },
   "file_extension": ".py",
   "mimetype": "text/x-python",
   "name": "python",
   "nbconvert_exporter": "python",
   "pygments_lexer": "ipython3",
   "version": "3.9.13"
  },
  "orig_nbformat": 4,
  "vscode": {
   "interpreter": {
    "hash": "ad2bdc8ecc057115af97d19610ffacc2b4e99fae6737bb82f5d7fb13d2f2c186"
   }
  }
 },
 "nbformat": 4,
 "nbformat_minor": 2
}
