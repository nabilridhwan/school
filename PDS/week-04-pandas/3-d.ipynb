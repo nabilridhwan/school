{
 "cells": [
  {
   "cell_type": "code",
   "execution_count": 1,
   "metadata": {},
   "outputs": [],
   "source": [
    "import pandas as pd\n",
    "import numpy as np"
   ]
  },
  {
   "cell_type": "code",
   "execution_count": 2,
   "metadata": {},
   "outputs": [
    {
     "name": "stdout",
     "output_type": "stream",
     "text": [
      "     BA  BA (Honours)  BA (Accountancy)  BA (Accountancy) (Honours)\n",
      "0  3000          3200              2700                        2800\n",
      "1  3000          3520              2838                        2912\n",
      "2  3000          3800              2850                        3000\n"
     ]
    }
   ],
   "source": [
    "nus_median_gross_pay_2013to2015 = {\n",
    "'BA' : [3000,3000,3000],\n",
    "'BA (Honours)' : [3200,3520,3800],\n",
    "'BA (Accountancy)' : [2700,2838,2850],\n",
    "'BA (Accountancy) (Honours)' : [2800,2912,3000]\n",
    "} \n",
    "\n",
    "\n",
    "df = pd.DataFrame(nus_median_gross_pay_2013to2015)\n",
    "\n",
    "\n",
    "print(df)"
   ]
  }
 ],
 "metadata": {
  "kernelspec": {
   "display_name": "base",
   "language": "python",
   "name": "python3"
  },
  "language_info": {
   "codemirror_mode": {
    "name": "ipython",
    "version": 3
   },
   "file_extension": ".py",
   "mimetype": "text/x-python",
   "name": "python",
   "nbconvert_exporter": "python",
   "pygments_lexer": "ipython3",
   "version": "3.9.13"
  },
  "orig_nbformat": 4,
  "vscode": {
   "interpreter": {
    "hash": "ad2bdc8ecc057115af97d19610ffacc2b4e99fae6737bb82f5d7fb13d2f2c186"
   }
  }
 },
 "nbformat": 4,
 "nbformat_minor": 2
}
