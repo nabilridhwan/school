{
 "cells": [
  {
   "cell_type": "code",
   "execution_count": 5,
   "metadata": {},
   "outputs": [],
   "source": [
    "import numpy as np\n",
    "import pandas as pd"
   ]
  },
  {
   "cell_type": "code",
   "execution_count": 24,
   "metadata": {},
   "outputs": [
    {
     "name": "stdout",
     "output_type": "stream",
     "text": [
      "*** Date in 1980 column ***\n",
      "Variables\n",
      "Total                  1651500\n",
      "Single                  674100\n",
      "Married                 864600\n",
      "Widowed                  97100\n",
      "Divorced/ Separated      15800\n",
      "Males                   833500\n",
      "Single                  375800\n",
      "Married                 435900\n",
      "Widowed                  16000\n",
      "Divorced/ Separated       5700\n",
      "Females                 818000\n",
      "Single                  298300\n",
      "Married                 428700\n",
      "Widowed                  81100\n",
      "Divorced/ Separated      10100\n",
      "Name: 1980, dtype: int64\n",
      "Number of rows more than 500k is 5\n",
      "Number of rows less than 500k is 5\n"
     ]
    }
   ],
   "source": [
    "mydf = pd.read_excel(\"./singstats_maritalstatus.xlsx\")\n",
    "mydf.index = mydf['Variables']\n",
    "morethan = mydf['1980'][mydf['1980'] > 500_000]\n",
    "lessthan = mydf['1980'][mydf['1980'] < 500_000]\n",
    "\n",
    "print(\"*** Date in 1980 column ***\")\n",
    "print(mydf['1980'])\n",
    "print(f\"Number of rows more than 500k is {morethan.count()}\")\n",
    "print(f\"Number of rows less than 500k is {morethan.count()}\")"
   ]
  }
 ],
 "metadata": {
  "kernelspec": {
   "display_name": "base",
   "language": "python",
   "name": "python3"
  },
  "language_info": {
   "codemirror_mode": {
    "name": "ipython",
    "version": 3
   },
   "file_extension": ".py",
   "mimetype": "text/x-python",
   "name": "python",
   "nbconvert_exporter": "python",
   "pygments_lexer": "ipython3",
   "version": "3.9.13"
  },
  "orig_nbformat": 4,
  "vscode": {
   "interpreter": {
    "hash": "ad2bdc8ecc057115af97d19610ffacc2b4e99fae6737bb82f5d7fb13d2f2c186"
   }
  }
 },
 "nbformat": 4,
 "nbformat_minor": 2
}
