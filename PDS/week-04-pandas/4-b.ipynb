{
 "cells": [
  {
   "cell_type": "code",
   "execution_count": 5,
   "metadata": {},
   "outputs": [],
   "source": [
    "import numpy as np\n",
    "import pandas as pd"
   ]
  },
  {
   "cell_type": "code",
   "execution_count": 6,
   "metadata": {},
   "outputs": [
    {
     "name": "stdout",
     "output_type": "stream",
     "text": [
      "\n",
      "**sum of myseries**\n",
      "1.6728660058432672\n",
      "\n",
      "**cumsum of myseries**\n",
      "0    0.641210\n",
      "1    0.727553\n",
      "2    1.203385\n",
      "3    1.672866\n",
      "dtype: float64\n"
     ]
    }
   ],
   "source": [
    "myseries = pd.Series(np.random.rand(4))\n",
    "\n",
    "print(f\"\\n**sum of myseries**\")\n",
    "print(myseries.sum())\n",
    "print(f\"\\n**cumsum of myseries**\")\n",
    "print(myseries.cumsum())"
   ]
  }
 ],
 "metadata": {
  "kernelspec": {
   "display_name": "base",
   "language": "python",
   "name": "python3"
  },
  "language_info": {
   "codemirror_mode": {
    "name": "ipython",
    "version": 3
   },
   "file_extension": ".py",
   "mimetype": "text/x-python",
   "name": "python",
   "nbconvert_exporter": "python",
   "pygments_lexer": "ipython3",
   "version": "3.9.13"
  },
  "orig_nbformat": 4,
  "vscode": {
   "interpreter": {
    "hash": "ad2bdc8ecc057115af97d19610ffacc2b4e99fae6737bb82f5d7fb13d2f2c186"
   }
  }
 },
 "nbformat": 4,
 "nbformat_minor": 2
}
