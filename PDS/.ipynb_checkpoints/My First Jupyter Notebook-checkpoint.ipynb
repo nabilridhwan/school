{
 "cells": [
  {
   "cell_type": "code",
   "execution_count": 2,
   "id": "c0954bf5",
   "metadata": {},
   "outputs": [
    {
     "name": "stdout",
     "output_type": "stream",
     "text": [
      "What is your name: Nabil\n",
      "Hi Nabil\n"
     ]
    }
   ],
   "source": [
    "name = input(\"What is your name: \")\n",
    "print(f\"Hi {name}\")"
   ]
  },
  {
   "cell_type": "code",
   "execution_count": null,
   "id": "7a62f86c",
   "metadata": {},
   "outputs": [],
   "source": []
  }
 ],
 "metadata": {
  "kernelspec": {
   "display_name": "Python 3 (ipykernel)",
   "language": "python",
   "name": "python3"
  },
  "language_info": {
   "codemirror_mode": {
    "name": "ipython",
    "version": 3
   },
   "file_extension": ".py",
   "mimetype": "text/x-python",
   "name": "python",
   "nbconvert_exporter": "python",
   "pygments_lexer": "ipython3",
   "version": "3.9.12"
  }
 },
 "nbformat": 4,
 "nbformat_minor": 5
}
